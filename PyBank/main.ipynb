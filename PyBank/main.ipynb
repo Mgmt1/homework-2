{
 "cells": [
  {
   "cell_type": "code",
   "execution_count": 4,
   "id": "c91c2593-f3e8-4986-9586-c7e6776eaadd",
   "metadata": {},
   "outputs": [],
   "source": [
    "# Import the pathlib and csv library\n",
    "from pathlib import Path\n",
    "import csv\n",
    "\n",
    "# Set the file path\n",
    "csvpath = Path('Resources/budget_data.csv')\n",
    "\n",
    "# Initialize variable to hold salaries\n",
    "total_profits = 0\n",
    "total_months = 0\n",
    "changes = []\n",
    "previous_pnl = 0\n",
    "increase = [\"\", 0]\n",
    "decrease = [\"\", 0]\n",
    "\n",
    "\n",
    "# Open the input path as a file object\n",
    "with open(csvpath, 'r') as csvfile:\n",
    "\n",
    "   \n",
    "\n",
    "    # Pass in the csv file to the csv.reader() function\n",
    "    # (with ',' as the delmiter/separator) and return the csvreader object\n",
    "    csvreader = csv.reader(csvfile, delimiter=',')\n",
    "    \n",
    "\n",
    "    # Go to the next row from the start of the file\n",
    "    # (which is often the first row/header) and iterate line_num by 1\n",
    "    header = next(csvreader)\n",
    "    first_row = next(csvreader)\n",
    "    total_months = total_months + 1\n",
    "    total_profits += int(first_row[1])\n",
    "    previous_pnl = int(first_row[1])\n",
    "   \n",
    "    # Read each row of data after the header\n",
    "    for row in csvreader:\n",
    "        # Print the row\n",
    "        \n",
    "        total_months += 1\n",
    "        total_profits += int(row[1])\n",
    "        change = int(row[1]) - previous_pnl\n",
    "        previous_pnl = int(row[1])\n",
    "        changes.append(change)\n",
    "        \n",
    "        if change > increase[1]:\n",
    "            increase[0] = row[0]\n",
    "            increase[1] = change\n",
    "        \n",
    "        elif change < decrease[1]:\n",
    "            decrease[0] = row[0]\n",
    "            decrease[1] = change\n"
   ]
  },
  {
   "cell_type": "code",
   "execution_count": 12,
   "id": "d9ed5305-011e-4131-8a8f-3497b92e4742",
   "metadata": {},
   "outputs": [
    {
     "data": {
      "text/plain": [
       "-2315.12"
      ]
     },
     "execution_count": 12,
     "metadata": {},
     "output_type": "execute_result"
    }
   ],
   "source": [
    "round(sum(changes)/len(changes), 2)\n"
   ]
  },
  {
   "cell_type": "code",
   "execution_count": 31,
   "id": "99bc4ba0-69b5-4462-8503-42a013f471e2",
   "metadata": {},
   "outputs": [],
   "source": [
    "output_path = Path(\"Resources/output.txt\")\n",
    "\n",
    "with open(output_path, 'w') as csvfile:\n",
    "    csvfile.write(\"Output Challenge 2\\n\")\n",
    "    csvfile.write(\"Line 2\\n\")"
   ]
  },
  {
   "cell_type": "code",
   "execution_count": null,
   "id": "8ba3e878-bfe3-41c1-8422-22d82f3ed609",
   "metadata": {},
   "outputs": [],
   "source": []
  }
 ],
 "metadata": {
  "kernelspec": {
   "display_name": "Python 3 (ipykernel)",
   "language": "python",
   "name": "python3"
  },
  "language_info": {
   "codemirror_mode": {
    "name": "ipython",
    "version": 3
   },
   "file_extension": ".py",
   "mimetype": "text/x-python",
   "name": "python",
   "nbconvert_exporter": "python",
   "pygments_lexer": "ipython3",
   "version": "3.9.13"
  }
 },
 "nbformat": 4,
 "nbformat_minor": 5
}
